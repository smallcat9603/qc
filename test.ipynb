{
 "cells": [
  {
   "cell_type": "code",
   "execution_count": 188,
   "metadata": {},
   "outputs": [
    {
     "data": {
      "text/plain": [
       "array([0.5, 0.5])"
      ]
     },
     "execution_count": 188,
     "metadata": {},
     "output_type": "execute_result"
    }
   ],
   "source": [
    "import numpy as np\n",
    "\n",
    "from qiskit.quantum_info import Statevector\n",
    "from qiskit.visualization import plot_histogram\n",
    "from qiskit.quantum_info import Operator\n",
    "from qiskit import QuantumCircuit, QuantumRegister, ClassicalRegister\n",
    "from qiskit.primitives import Sampler\n",
    "\n",
    "from qiskit_aer import AerSimulator\n",
    "from qiskit.result import marginal_distribution\n",
    "from qiskit.circuit.library import UGate\n",
    "\n",
    "ket0 = np.array([1, 0])\n",
    "ket1 = np.array([0, 1])\n",
    "\n",
    "ket0 / 2 + ket1 / 2"
   ]
  },
  {
   "cell_type": "code",
   "execution_count": 189,
   "metadata": {},
   "outputs": [
    {
     "data": {
      "text/plain": [
       "array([[1. , 1. ],\n",
       "       [0.5, 0. ]])"
      ]
     },
     "metadata": {},
     "output_type": "display_data"
    },
    {
     "data": {
      "text/plain": [
       "array([1, 0])"
      ]
     },
     "metadata": {},
     "output_type": "display_data"
    },
    {
     "data": {
      "text/plain": [
       "array([[2, 1],\n",
       "       [0, 0]])"
      ]
     },
     "metadata": {},
     "output_type": "display_data"
    },
    {
     "data": {
      "text/plain": [
       "array([[1, 1],\n",
       "       [1, 1]])"
      ]
     },
     "metadata": {},
     "output_type": "display_data"
    }
   ],
   "source": [
    "M1 = np.array([[1, 1], [0, 0]])\n",
    "M2 = np.array([[1, 1], [1, 0]])\n",
    "\n",
    "display(M1 / 2 + M2 / 2)\n",
    "display(np.matmul(M1, ket1))\n",
    "display(np.matmul(M1, M2))\n",
    "display(np.matmul(M2, M1))"
   ]
  },
  {
   "cell_type": "code",
   "execution_count": 190,
   "metadata": {},
   "outputs": [
    {
     "name": "stdout",
     "output_type": "stream",
     "text": [
      "State vectors u, v, and w have been defined.\n",
      "Statevector([0.70710678+0.j, 0.70710678+0.j],\n",
      "            dims=(2,))\n"
     ]
    }
   ],
   "source": [
    "u = Statevector([1 / np.sqrt(2), 1 / np.sqrt(2)])\n",
    "v = Statevector([(1 + 2.0j) / 3, -2 / 3])\n",
    "w = Statevector([1 / 3, 2 / 3])\n",
    "\n",
    "print(\"State vectors u, v, and w have been defined.\")\n",
    "display(u)"
   ]
  },
  {
   "cell_type": "code",
   "execution_count": 191,
   "metadata": {},
   "outputs": [
    {
     "data": {
      "text/latex": [
       "$$\\frac{\\sqrt{2}}{2} |0\\rangle+\\frac{\\sqrt{2}}{2} |1\\rangle$$"
      ],
      "text/plain": [
       "<IPython.core.display.Latex object>"
      ]
     },
     "metadata": {},
     "output_type": "display_data"
    },
    {
     "data": {
      "text/plain": [
       "[ 0.33333333+0.66666667j,-0.66666667+0.j        ]"
      ]
     },
     "metadata": {},
     "output_type": "display_data"
    },
    {
     "data": {
      "text/latex": [
       "$$(\\frac{1}{3} + \\frac{2 i}{3}) |0\\rangle- \\frac{2}{3} |1\\rangle$$"
      ],
      "text/plain": [
       "<IPython.core.display.Latex object>"
      ]
     },
     "metadata": {},
     "output_type": "display_data"
    },
    {
     "data": {
      "text/plain": [
       "True"
      ]
     },
     "metadata": {},
     "output_type": "display_data"
    },
    {
     "data": {
      "text/plain": [
       "False"
      ]
     },
     "metadata": {},
     "output_type": "display_data"
    }
   ],
   "source": [
    "display(u.draw(\"latex\"))\n",
    "display(v.draw(\"text\"))\n",
    "display(v.draw(\"latex\"))\n",
    "\n",
    "display(u.is_valid())\n",
    "display(w.is_valid())"
   ]
  },
  {
   "cell_type": "code",
   "execution_count": 192,
   "metadata": {},
   "outputs": [
    {
     "data": {
      "text/plain": [
       "('0',\n",
       " Statevector([0.4472136+0.89442719j, 0.       +0.j        ],\n",
       "             dims=(2,)))"
      ]
     },
     "execution_count": 192,
     "metadata": {},
     "output_type": "execute_result"
    }
   ],
   "source": [
    "v.measure()"
   ]
  },
  {
   "cell_type": "code",
   "execution_count": 193,
   "metadata": {},
   "outputs": [
    {
     "data": {
      "text/plain": [
       "{'0': 556, '1': 444}"
      ]
     },
     "metadata": {},
     "output_type": "display_data"
    },
    {
     "data": {
      "image/png": "[encoded data removed]",
      "text/plain": [
       "<Figure size 640x480 with 1 Axes>"
      ]
     },
     "execution_count": 193,
     "metadata": {},
     "output_type": "execute_result"
    }
   ],
   "source": [
    "statistics = v.sample_counts(1000)\n",
    "display(statistics)\n",
    "plot_histogram(statistics)"
   ]
  },
  {
   "cell_type": "code",
   "execution_count": 194,
   "metadata": {},
   "outputs": [
    {
     "data": {
      "text/plain": [
       "[ 0.85355339+0.35355339j,-0.35355339+0.14644661j]"
      ]
     },
     "execution_count": 194,
     "metadata": {},
     "output_type": "execute_result"
    }
   ],
   "source": [
    "X = Operator([[0, 1], [1, 0]])\n",
    "Y = Operator([[0, -1.0j], [1.0j, 0]])\n",
    "Z = Operator([[1, 0], [0, -1]])\n",
    "H = Operator([[1 / np.sqrt(2), 1 / np.sqrt(2)], [1 / np.sqrt(2), -1 / np.sqrt(2)]])\n",
    "S = Operator([[1, 0], [0, 1.0j]])\n",
    "T = Operator([[1, 0], [0, (1 + 1.0j) / np.sqrt(2)]])\n",
    "\n",
    "v = Statevector([1, 0])\n",
    "\n",
    "v = v.evolve(H)\n",
    "v = v.evolve(T)\n",
    "v = v.evolve(H)\n",
    "v = v.evolve(T)\n",
    "v = v.evolve(Z)\n",
    "\n",
    "v.draw(\"text\")"
   ]
  },
  {
   "cell_type": "code",
   "execution_count": 195,
   "metadata": {},
   "outputs": [
    {
     "data": {
      "text/html": [
       "<pre style=\"word-wrap: normal;white-space: pre;background: #fff0;line-height: 1.1;font-family: &quot;Courier New&quot;,Courier,monospace\">   ┌───┐┌───┐┌───┐┌───┐┌───┐\n",
       "q: ┤ H ├┤ T ├┤ H ├┤ T ├┤ Z ├\n",
       "   └───┘└───┘└───┘└───┘└───┘</pre>"
      ],
      "text/plain": [
       "   ┌───┐┌───┐┌───┐┌───┐┌───┐\n",
       "q: ┤ H ├┤ T ├┤ H ├┤ T ├┤ Z ├\n",
       "   └───┘└───┘└───┘└───┘└───┘"
      ]
     },
     "execution_count": 195,
     "metadata": {},
     "output_type": "execute_result"
    }
   ],
   "source": [
    "circuit = QuantumCircuit(1)\n",
    "\n",
    "circuit.h(0)\n",
    "circuit.t(0)\n",
    "circuit.h(0)\n",
    "circuit.t(0)\n",
    "circuit.z(0)\n",
    "\n",
    "circuit.draw()"
   ]
  },
  {
   "cell_type": "code",
   "execution_count": 196,
   "metadata": {},
   "outputs": [
    {
     "data": {
      "text/plain": [
       "[ 0.85355339+0.35355339j,-0.35355339+0.14644661j]"
      ]
     },
     "execution_count": 196,
     "metadata": {},
     "output_type": "execute_result"
    }
   ],
   "source": [
    "ket0 = Statevector([1, 0])\n",
    "v = ket0.evolve(circuit)\n",
    "v.draw(\"text\")"
   ]
  },
  {
   "cell_type": "code",
   "execution_count": 197,
   "metadata": {},
   "outputs": [
    {
     "data": {
      "image/png": "[encoded data removed]",
      "text/plain": [
       "<Figure size 640x480 with 1 Axes>"
      ]
     },
     "execution_count": 197,
     "metadata": {},
     "output_type": "execute_result"
    }
   ],
   "source": [
    "statistics = v.sample_counts(4000)\n",
    "plot_histogram(statistics)"
   ]
  },
  {
   "cell_type": "code",
   "execution_count": 198,
   "metadata": {},
   "outputs": [
    {
     "name": "stdout",
     "output_type": "stream",
     "text": [
      "Statevector([1.+0.j, 0.+0.j],\n",
      "            dims=(2,))\n",
      "Statevector([0.+0.j, 1.+0.j],\n",
      "            dims=(2,))\n"
     ]
    },
    {
     "data": {
      "text/latex": [
       "$$ |01\\rangle$$"
      ],
      "text/plain": [
       "<IPython.core.display.Latex object>"
      ]
     },
     "execution_count": 198,
     "metadata": {},
     "output_type": "execute_result"
    }
   ],
   "source": [
    "zero, one = Statevector.from_label(\"0\"), Statevector.from_label(\"1\")\n",
    "display(zero)\n",
    "display(one)\n",
    "zero.tensor(one).draw(\"latex\")"
   ]
  },
  {
   "cell_type": "code",
   "execution_count": 199,
   "metadata": {},
   "outputs": [
    {
     "name": "stdout",
     "output_type": "stream",
     "text": [
      "Statevector([0.70710678+0.j, 0.70710678+0.j],\n",
      "            dims=(2,))\n"
     ]
    },
    {
     "data": {
      "text/latex": [
       "$$\\frac{1}{2} |00\\rangle+\\frac{i}{2} |01\\rangle+\\frac{1}{2} |10\\rangle+\\frac{i}{2} |11\\rangle$$"
      ],
      "text/plain": [
       "<IPython.core.display.Latex object>"
      ]
     },
     "execution_count": 199,
     "metadata": {},
     "output_type": "execute_result"
    }
   ],
   "source": [
    "plus = Statevector.from_label(\"+\")\n",
    "display(plus)\n",
    "i_state = Statevector([1 / np.sqrt(2), 1j / np.sqrt(2)])\n",
    "psi = plus.tensor(i_state)\n",
    "\n",
    "psi.draw(\"latex\")"
   ]
  },
  {
   "cell_type": "code",
   "execution_count": 200,
   "metadata": {},
   "outputs": [
    {
     "name": "stdout",
     "output_type": "stream",
     "text": [
      "Operator([[0.+0.j, 0.+0.j, 1.+0.j, 0.+0.j],\n",
      "          [0.+0.j, 0.+0.j, 0.+0.j, 1.+0.j],\n",
      "          [1.+0.j, 0.+0.j, 0.+0.j, 0.+0.j],\n",
      "          [0.+0.j, 1.+0.j, 0.+0.j, 0.+0.j]],\n",
      "         input_dims=(2, 2), output_dims=(2, 2))\n"
     ]
    }
   ],
   "source": [
    "X = Operator([[0, 1], [1, 0]])\n",
    "I = Operator([[1, 0], [0, 1]])\n",
    "\n",
    "X.tensor(I)"
   ]
  },
  {
   "cell_type": "code",
   "execution_count": 201,
   "metadata": {},
   "outputs": [
    {
     "data": {
      "text/latex": [
       "$$\\frac{i}{2} |00\\rangle+\\frac{1}{2} |01\\rangle+\\frac{i}{2} |10\\rangle+\\frac{1}{2} |11\\rangle$$"
      ],
      "text/plain": [
       "<IPython.core.display.Latex object>"
      ]
     },
     "execution_count": 201,
     "metadata": {},
     "output_type": "execute_result"
    }
   ],
   "source": [
    "psi.evolve(I ^ X).draw(\"latex\")"
   ]
  },
  {
   "cell_type": "code",
   "execution_count": 202,
   "metadata": {},
   "outputs": [
    {
     "data": {
      "text/latex": [
       "$$\\frac{1}{2} |00\\rangle+\\frac{i}{2} |01\\rangle+\\frac{i}{2} |10\\rangle+\\frac{1}{2} |11\\rangle$$"
      ],
      "text/plain": [
       "<IPython.core.display.Latex object>"
      ]
     },
     "execution_count": 202,
     "metadata": {},
     "output_type": "execute_result"
    }
   ],
   "source": [
    "CX = Operator(\n",
    "    [\n",
    "        [1, 0, 0, 0],\n",
    "        [0, 1, 0, 0],\n",
    "        [0, 0, 0, 1],\n",
    "        [0, 0, 1, 0],\n",
    "    ]\n",
    ")\n",
    "\n",
    "psi.evolve(CX).draw(\"latex\")"
   ]
  },
  {
   "cell_type": "code",
   "execution_count": 203,
   "metadata": {},
   "outputs": [
    {
     "name": "stdout",
     "output_type": "stream",
     "text": [
      "Statevector([0.        +0.j, 0.57735027+0.j, 0.57735027+0.j,\n",
      "             0.        +0.j, 0.57735027+0.j, 0.        +0.j,\n",
      "             0.        +0.j, 0.        +0.j],\n",
      "            dims=(2, 2, 2))\n"
     ]
    },
    {
     "data": {
      "text/latex": [
       "$$\\frac{\\sqrt{3}}{3} |001\\rangle+\\frac{\\sqrt{3}}{3} |010\\rangle+\\frac{\\sqrt{3}}{3} |100\\rangle$$"
      ],
      "text/plain": [
       "<IPython.core.display.Latex object>"
      ]
     },
     "execution_count": 203,
     "metadata": {},
     "output_type": "execute_result"
    }
   ],
   "source": [
    "W = Statevector([0, 1, 1, 0, 1, 0, 0, 0] / np.sqrt(3))\n",
    "display(W)\n",
    "W.draw(\"latex\")"
   ]
  },
  {
   "cell_type": "code",
   "execution_count": 204,
   "metadata": {},
   "outputs": [
    {
     "name": "stdout",
     "output_type": "stream",
     "text": [
      "Measured: 0\n",
      "State after measurement:\n"
     ]
    },
    {
     "data": {
      "text/latex": [
       "$$\\frac{\\sqrt{2}}{2} |010\\rangle+\\frac{\\sqrt{2}}{2} |100\\rangle$$"
      ],
      "text/plain": [
       "<IPython.core.display.Latex object>"
      ]
     },
     "execution_count": 204,
     "metadata": {},
     "output_type": "execute_result"
    }
   ],
   "source": [
    "result, new_sv = W.measure([0])  # measure qubit 0\n",
    "print(f\"Measured: {result}\\nState after measurement:\")\n",
    "new_sv.draw(\"latex\")"
   ]
  },
  {
   "cell_type": "code",
   "execution_count": 205,
   "metadata": {},
   "outputs": [
    {
     "data": {
      "text/html": [
       "<pre style=\"word-wrap: normal;white-space: pre;background: #fff0;line-height: 1.1;font-family: &quot;Courier New&quot;,Courier,monospace\">   ┌───┐┌───┐┌───┐┌───┐\n",
       "q: ┤ H ├┤ S ├┤ H ├┤ T ├\n",
       "   └───┘└───┘└───┘└───┘</pre>"
      ],
      "text/plain": [
       "   ┌───┐┌───┐┌───┐┌───┐\n",
       "q: ┤ H ├┤ S ├┤ H ├┤ T ├\n",
       "   └───┘└───┘└───┘└───┘"
      ]
     },
     "metadata": {},
     "output_type": "display_data"
    }
   ],
   "source": [
    "circuit = QuantumCircuit(1)\n",
    "\n",
    "circuit.h(0)\n",
    "circuit.s(0)\n",
    "circuit.h(0)\n",
    "circuit.t(0)\n",
    "\n",
    "display(circuit.draw())"
   ]
  },
  {
   "cell_type": "code",
   "execution_count": 206,
   "metadata": {},
   "outputs": [
    {
     "data": {
      "text/html": [
       "<pre style=\"word-wrap: normal;white-space: pre;background: #fff0;line-height: 1.1;font-family: &quot;Courier New&quot;,Courier,monospace\">   ┌───┐┌───┐┌───┐┌───┐\n",
       "X: ┤ H ├┤ S ├┤ H ├┤ T ├\n",
       "   └───┘└───┘└───┘└───┘</pre>"
      ],
      "text/plain": [
       "   ┌───┐┌───┐┌───┐┌───┐\n",
       "X: ┤ H ├┤ S ├┤ H ├┤ T ├\n",
       "   └───┘└───┘└───┘└───┘"
      ]
     },
     "metadata": {},
     "output_type": "display_data"
    }
   ],
   "source": [
    "X = QuantumRegister(1, \"X\")\n",
    "circuit = QuantumCircuit(X)\n",
    "\n",
    "circuit.h(X)\n",
    "circuit.s(X)\n",
    "circuit.h(X)\n",
    "circuit.t(X)\n",
    "\n",
    "display(circuit.draw())"
   ]
  },
  {
   "cell_type": "code",
   "execution_count": 207,
   "metadata": {},
   "outputs": [
    {
     "data": {
      "text/html": [
       "<pre style=\"word-wrap: normal;white-space: pre;background: #fff0;line-height: 1.1;font-family: &quot;Courier New&quot;,Courier,monospace\">     ┌───┐     ┌─┐   \n",
       "  Y: ┤ H ├──■──┤M├───\n",
       "     └───┘┌─┴─┐└╥┘┌─┐\n",
       "  X: ─────┤ X ├─╫─┤M├\n",
       "          └───┘ ║ └╥┘\n",
       "B: 1/═══════════╩══╬═\n",
       "                0  ║ \n",
       "A: 1/══════════════╩═\n",
       "                   0 </pre>"
      ],
      "text/plain": [
       "     ┌───┐     ┌─┐   \n",
       "  Y: ┤ H ├──■──┤M├───\n",
       "     └───┘┌─┴─┐└╥┘┌─┐\n",
       "  X: ─────┤ X ├─╫─┤M├\n",
       "          └───┘ ║ └╥┘\n",
       "B: 1/═══════════╩══╬═\n",
       "                0  ║ \n",
       "A: 1/══════════════╩═\n",
       "                   0 "
      ]
     },
     "metadata": {},
     "output_type": "display_data"
    }
   ],
   "source": [
    "X = QuantumRegister(1, \"X\")\n",
    "Y = QuantumRegister(1, \"Y\")\n",
    "A = ClassicalRegister(1, \"A\")\n",
    "B = ClassicalRegister(1, \"B\")\n",
    "\n",
    "circuit = QuantumCircuit(Y, X, B, A)\n",
    "circuit.h(Y)\n",
    "circuit.cx(Y, X)\n",
    "circuit.measure(Y, B)\n",
    "circuit.measure(X, A)\n",
    "\n",
    "display(circuit.draw())"
   ]
  },
  {
   "cell_type": "code",
   "execution_count": 208,
   "metadata": {},
   "outputs": [
    {
     "data": {
      "image/png": "[encoded data removed]",
      "text/plain": [
       "<Figure size 640x480 with 1 Axes>"
      ]
     },
     "metadata": {},
     "output_type": "display_data"
    }
   ],
   "source": [
    "results = Sampler().run(circuit).result()\n",
    "statistics = results.quasi_dists[0].binary_probabilities()\n",
    "display(plot_histogram(statistics))"
   ]
  },
  {
   "cell_type": "code",
   "execution_count": 209,
   "metadata": {},
   "outputs": [
    {
     "data": {
      "text/html": [
       "<pre style=\"word-wrap: normal;white-space: pre;background: #fff0;line-height: 1.1;font-family: &quot;Courier New&quot;,Courier,monospace\">                ░      ┌───┐ ░    ┌─┐ ░                                     »\n",
       "  Q: ───────────░───■──┤ H ├─░────┤M├─░─────────────────────────────────────»\n",
       "     ┌───┐      ░ ┌─┴─┐└───┘ ░ ┌─┐└╥┘ ░                                     »\n",
       "  A: ┤ H ├──■───░─┤ X ├──────░─┤M├─╫──░─────────────────────────────────────»\n",
       "     └───┘┌─┴─┐ ░ └───┘      ░ └╥┘ ║  ░ ┌────── ┌───┐ ───────┐ ┌────── ┌───┐»\n",
       "  B: ─────┤ X ├─░────────────░──╫──╫──░─┤ If-0  ┤ X ├  End-0 ├─┤ If-0  ┤ Z ├»\n",
       "          └───┘ ░            ░  ║  ║  ░ └──╥─── └───┘ ───────┘ └──╥─── └───┘»\n",
       "                                ║  ║    ┌──╨──┐                   ║         »\n",
       "a: 1/═══════════════════════════╩══╬════╡ 0x1 ╞═══════════════════╬═════════»\n",
       "                                0  ║    └─────┘                ┌──╨──┐      »\n",
       "b: 1/══════════════════════════════╩═══════════════════════════╡ 0x1 ╞══════»\n",
       "                                   0                           └─────┘      »\n",
       "«               \n",
       "«  Q: ──────────\n",
       "«               \n",
       "«  A: ──────────\n",
       "«      ───────┐ \n",
       "«  B:   End-0 ├─\n",
       "«      ───────┘ \n",
       "«a: 1/══════════\n",
       "«               \n",
       "«b: 1/══════════\n",
       "«               </pre>"
      ],
      "text/plain": [
       "                ░      ┌───┐ ░    ┌─┐ ░                                     »\n",
       "  Q: ───────────░───■──┤ H ├─░────┤M├─░─────────────────────────────────────»\n",
       "     ┌───┐      ░ ┌─┴─┐└───┘ ░ ┌─┐└╥┘ ░                                     »\n",
       "  A: ┤ H ├──■───░─┤ X ├──────░─┤M├─╫──░─────────────────────────────────────»\n",
       "     └───┘┌─┴─┐ ░ └───┘      ░ └╥┘ ║  ░ ┌────── ┌───┐ ───────┐ ┌────── ┌───┐»\n",
       "  B: ─────┤ X ├─░────────────░──╫──╫──░─┤ If-0  ┤ X ├  End-0 ├─┤ If-0  ┤ Z ├»\n",
       "          └───┘ ░            ░  ║  ║  ░ └──╥─── └───┘ ───────┘ └──╥─── └───┘»\n",
       "                                ║  ║    ┌──╨──┐                   ║         »\n",
       "a: 1/═══════════════════════════╩══╬════╡ 0x1 ╞═══════════════════╬═════════»\n",
       "                                0  ║    └─────┘                ┌──╨──┐      »\n",
       "b: 1/══════════════════════════════╩═══════════════════════════╡ 0x1 ╞══════»\n",
       "                                   0                           └─────┘      »\n",
       "«               \n",
       "«  Q: ──────────\n",
       "«               \n",
       "«  A: ──────────\n",
       "«      ───────┐ \n",
       "«  B:   End-0 ├─\n",
       "«      ───────┘ \n",
       "«a: 1/══════════\n",
       "«               \n",
       "«b: 1/══════════\n",
       "«               "
      ]
     },
     "metadata": {},
     "output_type": "display_data"
    }
   ],
   "source": [
    "qubit = QuantumRegister(1, \"Q\")\n",
    "ebit0 = QuantumRegister(1, \"A\")\n",
    "ebit1 = QuantumRegister(1, \"B\")\n",
    "a = ClassicalRegister(1, \"a\")\n",
    "b = ClassicalRegister(1, \"b\")\n",
    "\n",
    "protocol = QuantumCircuit(qubit, ebit0, ebit1, a, b)\n",
    "\n",
    "# Prepare ebit used for teleportation\n",
    "protocol.h(ebit0)\n",
    "protocol.cx(ebit0, ebit1)\n",
    "protocol.barrier()\n",
    "\n",
    "# Alice's operations\n",
    "protocol.cx(qubit, ebit0)\n",
    "protocol.h(qubit)\n",
    "protocol.barrier()\n",
    "\n",
    "# Alice measures and sends classical bits to Bob\n",
    "protocol.measure(ebit0, a)\n",
    "protocol.measure(qubit, b)\n",
    "protocol.barrier()\n",
    "\n",
    "# Bob uses the classical bits to conditionally apply gates\n",
    "with protocol.if_test((a, 1)):\n",
    "    protocol.x(ebit1)\n",
    "with protocol.if_test((b, 1)):\n",
    "    protocol.z(ebit1)\n",
    "\n",
    "display(protocol.draw())"
   ]
  },
  {
   "cell_type": "code",
   "execution_count": 210,
   "metadata": {},
   "outputs": [
    {
     "data": {
      "text/plain": [
       "array([[ 0.81473664+0.j        , -0.51254256-0.27111683j],\n",
       "       [-0.40463925+0.41529663j, -0.77544106+0.24997389j]])"
      ]
     },
     "metadata": {},
     "output_type": "display_data"
    }
   ],
   "source": [
    "random_gate = UGate(\n",
    "    theta=np.random.random() * 2 * np.pi,\n",
    "    phi=np.random.random() * 2 * np.pi,\n",
    "    lam=np.random.random() * 2 * np.pi,\n",
    ")\n",
    "\n",
    "display(random_gate.to_matrix())"
   ]
  },
  {
   "cell_type": "code",
   "execution_count": 211,
   "metadata": {},
   "outputs": [
    {
     "data": {
      "text/html": [
       "<pre style=\"word-wrap: normal;white-space: pre;background: #fff0;line-height: 1.1;font-family: &quot;Courier New&quot;,Courier,monospace\">          ┌─────────────────────────┐ ░            ░      ┌───┐ ░    ┌─┐ ░ »\n",
       "       Q: ┤ U(1.237,2.3432,0.48655) ├─░────────────░───■──┤ H ├─░────┤M├─░─»\n",
       "          └─────────────────────────┘ ░ ┌───┐      ░ ┌─┴─┐└───┘ ░ ┌─┐└╥┘ ░ »\n",
       "       A: ────────────────────────────░─┤ H ├──■───░─┤ X ├──────░─┤M├─╫──░─»\n",
       "                                      ░ └───┘┌─┴─┐ ░ └───┘      ░ └╥┘ ║  ░ »\n",
       "       B: ────────────────────────────░──────┤ X ├─░────────────░──╫──╫──░─»\n",
       "                                      ░      └───┘ ░            ░  ║  ║  ░ »\n",
       "     a: 1/═════════════════════════════════════════════════════════╩══╬════»\n",
       "                                                                   0  ║    »\n",
       "     b: 1/════════════════════════════════════════════════════════════╩════»\n",
       "                                                                      0    »\n",
       "Result: 1/═════════════════════════════════════════════════════════════════»\n",
       "                                                                           »\n",
       "«                                                         ░ »\n",
       "«       Q: ───────────────────────────────────────────────░─»\n",
       "«                                                         ░ »\n",
       "«       A: ───────────────────────────────────────────────░─»\n",
       "«          ┌────── ┌───┐ ───────┐ ┌────── ┌───┐ ───────┐  ░ »\n",
       "«       B: ┤ If-0  ┤ X ├  End-0 ├─┤ If-0  ┤ Z ├  End-0 ├──░─»\n",
       "«          └──╥─── └───┘ ───────┘ └──╥─── └───┘ ───────┘  ░ »\n",
       "«          ┌──╨──┐                   ║                      »\n",
       "«     a: 1/╡ 0x1 ╞═══════════════════╬══════════════════════»\n",
       "«          └─────┘                ┌──╨──┐                   »\n",
       "«     b: 1/═══════════════════════╡ 0x1 ╞═══════════════════»\n",
       "«                                 └─────┘                   »\n",
       "«Result: 1/═════════════════════════════════════════════════»\n",
       "«                                                           »\n",
       "«                                           \n",
       "«       Q: ─────────────────────────────────\n",
       "«                                           \n",
       "«       A: ─────────────────────────────────\n",
       "«          ┌────────────────────────────┐┌─┐\n",
       "«       B: ┤ U(-1.237,-0.48655,-2.3432) ├┤M├\n",
       "«          └────────────────────────────┘└╥┘\n",
       "«     a: 1/═══════════════════════════════╬═\n",
       "«                                         ║ \n",
       "«     b: 1/═══════════════════════════════╬═\n",
       "«                                         ║ \n",
       "«Result: 1/═══════════════════════════════╩═\n",
       "«                                         0 </pre>"
      ],
      "text/plain": [
       "          ┌─────────────────────────┐ ░            ░      ┌───┐ ░    ┌─┐ ░ »\n",
       "       Q: ┤ U(1.237,2.3432,0.48655) ├─░────────────░───■──┤ H ├─░────┤M├─░─»\n",
       "          └─────────────────────────┘ ░ ┌───┐      ░ ┌─┴─┐└───┘ ░ ┌─┐└╥┘ ░ »\n",
       "       A: ────────────────────────────░─┤ H ├──■───░─┤ X ├──────░─┤M├─╫──░─»\n",
       "                                      ░ └───┘┌─┴─┐ ░ └───┘      ░ └╥┘ ║  ░ »\n",
       "       B: ────────────────────────────░──────┤ X ├─░────────────░──╫──╫──░─»\n",
       "                                      ░      └───┘ ░            ░  ║  ║  ░ »\n",
       "     a: 1/═════════════════════════════════════════════════════════╩══╬════»\n",
       "                                                                   0  ║    »\n",
       "     b: 1/════════════════════════════════════════════════════════════╩════»\n",
       "                                                                      0    »\n",
       "Result: 1/═════════════════════════════════════════════════════════════════»\n",
       "                                                                           »\n",
       "«                                                         ░ »\n",
       "«       Q: ───────────────────────────────────────────────░─»\n",
       "«                                                         ░ »\n",
       "«       A: ───────────────────────────────────────────────░─»\n",
       "«          ┌────── ┌───┐ ───────┐ ┌────── ┌───┐ ───────┐  ░ »\n",
       "«       B: ┤ If-0  ┤ X ├  End-0 ├─┤ If-0  ┤ Z ├  End-0 ├──░─»\n",
       "«          └──╥─── └───┘ ───────┘ └──╥─── └───┘ ───────┘  ░ »\n",
       "«          ┌──╨──┐                   ║                      »\n",
       "«     a: 1/╡ 0x1 ╞═══════════════════╬══════════════════════»\n",
       "«          └─────┘                ┌──╨──┐                   »\n",
       "«     b: 1/═══════════════════════╡ 0x1 ╞═══════════════════»\n",
       "«                                 └─────┘                   »\n",
       "«Result: 1/═════════════════════════════════════════════════»\n",
       "«                                                           »\n",
       "«                                           \n",
       "«       Q: ─────────────────────────────────\n",
       "«                                           \n",
       "«       A: ─────────────────────────────────\n",
       "«          ┌────────────────────────────┐┌─┐\n",
       "«       B: ┤ U(-1.237,-0.48655,-2.3432) ├┤M├\n",
       "«          └────────────────────────────┘└╥┘\n",
       "«     a: 1/═══════════════════════════════╬═\n",
       "«                                         ║ \n",
       "«     b: 1/═══════════════════════════════╬═\n",
       "«                                         ║ \n",
       "«Result: 1/═══════════════════════════════╩═\n",
       "«                                         0 "
      ]
     },
     "metadata": {},
     "output_type": "display_data"
    }
   ],
   "source": [
    "# Create a new circuit including the same bits and qubits used in the\n",
    "# teleportation protocol.\n",
    "\n",
    "test = QuantumCircuit(qubit, ebit0, ebit1, a, b)\n",
    "\n",
    "# Start with the randomly selected gate on Q\n",
    "\n",
    "test.append(random_gate, qubit)\n",
    "test.barrier()\n",
    "\n",
    "# Append the entire teleportation protocol from above.\n",
    "\n",
    "test = test.compose(protocol)\n",
    "test.barrier()\n",
    "\n",
    "# Finally, apply the inverse of the random unitary to B and measure.\n",
    "\n",
    "test.append(random_gate.inverse(), ebit1)\n",
    "\n",
    "result = ClassicalRegister(1, \"Result\")\n",
    "test.add_register(result)\n",
    "test.measure(ebit1, result)\n",
    "\n",
    "display(test.draw())"
   ]
  },
  {
   "cell_type": "code",
   "execution_count": 212,
   "metadata": {},
   "outputs": [
    {
     "data": {
      "image/png": "[encoded data removed]",
      "text/plain": [
       "<Figure size 640x480 with 1 Axes>"
      ]
     },
     "metadata": {},
     "output_type": "display_data"
    }
   ],
   "source": [
    "result = AerSimulator().run(test).result()\n",
    "statistics = result.get_counts()\n",
    "display(plot_histogram(statistics))"
   ]
  },
  {
   "cell_type": "code",
   "execution_count": 213,
   "metadata": {},
   "outputs": [
    {
     "data": {
      "image/png": "[encoded data removed]",
      "text/plain": [
       "<Figure size 640x480 with 1 Axes>"
      ]
     },
     "metadata": {},
     "output_type": "display_data"
    }
   ],
   "source": [
    "filtered_statistics = marginal_distribution(statistics, [2])\n",
    "display(plot_histogram(filtered_statistics))"
   ]
  },
  {
   "cell_type": "code",
   "execution_count": 214,
   "metadata": {},
   "outputs": [
    {
     "data": {
      "text/html": [
       "<pre style=\"word-wrap: normal;white-space: pre;background: #fff0;line-height: 1.1;font-family: &quot;Courier New&quot;,Courier,monospace\">        ┌───┐      ░ ┌───┐ ░      ┌───┐ ░ ┌─┐   \n",
       "   q_0: ┤ H ├──■───░─┤ X ├─░───■──┤ H ├─░─┤M├───\n",
       "        └───┘┌─┴─┐ ░ └───┘ ░ ┌─┴─┐└───┘ ░ └╥┘┌─┐\n",
       "   q_1: ─────┤ X ├─░───────░─┤ X ├──────░──╫─┤M├\n",
       "             └───┘ ░       ░ └───┘      ░  ║ └╥┘\n",
       "meas: 2/═══════════════════════════════════╩══╩═\n",
       "                                           0  1 </pre>"
      ],
      "text/plain": [
       "        ┌───┐      ░ ┌───┐ ░      ┌───┐ ░ ┌─┐   \n",
       "   q_0: ┤ H ├──■───░─┤ X ├─░───■──┤ H ├─░─┤M├───\n",
       "        └───┘┌─┴─┐ ░ └───┘ ░ ┌─┴─┐└───┘ ░ └╥┘┌─┐\n",
       "   q_1: ─────┤ X ├─░───────░─┤ X ├──────░──╫─┤M├\n",
       "             └───┘ ░       ░ └───┘      ░  ║ └╥┘\n",
       "meas: 2/═══════════════════════════════════╩══╩═\n",
       "                                           0  1 "
      ]
     },
     "metadata": {},
     "output_type": "display_data"
    }
   ],
   "source": [
    "c = \"1\"\n",
    "d = \"0\"\n",
    "\n",
    "protocol = QuantumCircuit(2)\n",
    "\n",
    "# Prepare ebit used for superdense coding\n",
    "protocol.h(0)\n",
    "protocol.cx(0, 1)\n",
    "protocol.barrier()\n",
    "\n",
    "# Alice's operations\n",
    "if d == \"1\":\n",
    "    protocol.z(0)\n",
    "if c == \"1\":\n",
    "    protocol.x(0)\n",
    "protocol.barrier()\n",
    "\n",
    "# Bob's actions\n",
    "protocol.cx(0, 1)\n",
    "protocol.h(0)\n",
    "protocol.measure_all()\n",
    "\n",
    "display(protocol.draw())"
   ]
  },
  {
   "cell_type": "code",
   "execution_count": 215,
   "metadata": {},
   "outputs": [
    {
     "name": "stdout",
     "output_type": "stream",
     "text": [
      "Measured 10 with frequency 0.9999999999999996\n"
     ]
    },
    {
     "data": {
      "image/png": "[encoded data removed]",
      "text/plain": [
       "<Figure size 640x480 with 1 Axes>"
      ]
     },
     "metadata": {},
     "output_type": "display_data"
    }
   ],
   "source": [
    "result = Sampler().run(protocol).result()\n",
    "statistics = result.quasi_dists[0].binary_probabilities()\n",
    "\n",
    "for outcome, frequency in statistics.items():\n",
    "    print(f\"Measured {outcome} with frequency {frequency}\")\n",
    "\n",
    "display(plot_histogram(statistics))"
   ]
  },
  {
   "cell_type": "code",
   "execution_count": 216,
   "metadata": {},
   "outputs": [
    {
     "data": {
      "text/html": [
       "<pre style=\"word-wrap: normal;white-space: pre;background: #fff0;line-height: 1.1;font-family: &quot;Courier New&quot;,Courier,monospace\">                       ░ ┌───┐┌─┐┌───┐┌─┐ ░                                »\n",
       "randomizer: ───────────░─┤ H ├┤M├┤ H ├┤M├─░────────────────────────────────»\n",
       "            ┌───┐      ░ └───┘└╥┘└───┘└╥┘ ░ ┌────── ┌───┐ ───────┐ ┌────── »\n",
       "         A: ┤ H ├──■───░───────╫───────╫──░─┤ If-0  ┤ Z ├  End-0 ├─┤ If-0  »\n",
       "            └───┘┌─┴─┐ ░       ║       ║  ░ └──╥─── └───┘ ───────┘ └──╥─── »\n",
       "         B: ─────┤ X ├─░───────╫───────╫──░────╫──────────────────────╫────»\n",
       "                 └───┘ ░       ║       ║  ░ ┌──╨──┐                   ║    »\n",
       " Alice d: 1/═══════════════════╬═══════╩════╡ 0x1 ╞═══════════════════╬════»\n",
       "                               ║       0    └─────┘                ┌──╨──┐ »\n",
       " Alice c: 1/═══════════════════╩═══════════════════════════════════╡ 0x1 ╞═»\n",
       "                               0                                   └─────┘ »\n",
       "   Bob d: 1/═══════════════════════════════════════════════════════════════»\n",
       "                                                                           »\n",
       "   Bob c: 1/═══════════════════════════════════════════════════════════════»\n",
       "                                                                           »\n",
       "«                            ░            ░       \n",
       "«randomizer: ────────────────░────────────░───────\n",
       "«            ┌───┐ ───────┐  ░      ┌───┐ ░ ┌─┐   \n",
       "«         A: ┤ X ├  End-0 ├──░───■──┤ H ├─░─┤M├───\n",
       "«            └───┘ ───────┘  ░ ┌─┴─┐└───┘ ░ └╥┘┌─┐\n",
       "«         B: ────────────────░─┤ X ├──────░──╫─┤M├\n",
       "«                            ░ └───┘      ░  ║ └╥┘\n",
       "« Alice d: 1/════════════════════════════════╬══╬═\n",
       "«                                            ║  ║ \n",
       "« Alice c: 1/════════════════════════════════╬══╬═\n",
       "«                                            ║  ║ \n",
       "«   Bob d: 1/════════════════════════════════╩══╬═\n",
       "«                                            0  ║ \n",
       "«   Bob c: 1/═══════════════════════════════════╩═\n",
       "«                                               0 </pre>"
      ],
      "text/plain": [
       "                       ░ ┌───┐┌─┐┌───┐┌─┐ ░                                »\n",
       "randomizer: ───────────░─┤ H ├┤M├┤ H ├┤M├─░────────────────────────────────»\n",
       "            ┌───┐      ░ └───┘└╥┘└───┘└╥┘ ░ ┌────── ┌───┐ ───────┐ ┌────── »\n",
       "         A: ┤ H ├──■───░───────╫───────╫──░─┤ If-0  ┤ Z ├  End-0 ├─┤ If-0  »\n",
       "            └───┘┌─┴─┐ ░       ║       ║  ░ └──╥─── └───┘ ───────┘ └──╥─── »\n",
       "         B: ─────┤ X ├─░───────╫───────╫──░────╫──────────────────────╫────»\n",
       "                 └───┘ ░       ║       ║  ░ ┌──╨──┐                   ║    »\n",
       " Alice d: 1/═══════════════════╬═══════╩════╡ 0x1 ╞═══════════════════╬════»\n",
       "                               ║       0    └─────┘                ┌──╨──┐ »\n",
       " Alice c: 1/═══════════════════╩═══════════════════════════════════╡ 0x1 ╞═»\n",
       "                               0                                   └─────┘ »\n",
       "   Bob d: 1/═══════════════════════════════════════════════════════════════»\n",
       "                                                                           »\n",
       "   Bob c: 1/═══════════════════════════════════════════════════════════════»\n",
       "                                                                           »\n",
       "«                            ░            ░       \n",
       "«randomizer: ────────────────░────────────░───────\n",
       "«            ┌───┐ ───────┐  ░      ┌───┐ ░ ┌─┐   \n",
       "«         A: ┤ X ├  End-0 ├──░───■──┤ H ├─░─┤M├───\n",
       "«            └───┘ ───────┘  ░ ┌─┴─┐└───┘ ░ └╥┘┌─┐\n",
       "«         B: ────────────────░─┤ X ├──────░──╫─┤M├\n",
       "«                            ░ └───┘      ░  ║ └╥┘\n",
       "« Alice d: 1/════════════════════════════════╬══╬═\n",
       "«                                            ║  ║ \n",
       "« Alice c: 1/════════════════════════════════╬══╬═\n",
       "«                                            ║  ║ \n",
       "«   Bob d: 1/════════════════════════════════╩══╬═\n",
       "«                                            0  ║ \n",
       "«   Bob c: 1/═══════════════════════════════════╩═\n",
       "«                                               0 "
      ]
     },
     "metadata": {},
     "output_type": "display_data"
    }
   ],
   "source": [
    "rbg = QuantumRegister(1, \"randomizer\")\n",
    "ebit0 = QuantumRegister(1, \"A\")\n",
    "ebit1 = QuantumRegister(1, \"B\")\n",
    "\n",
    "Alice_c = ClassicalRegister(1, \"Alice c\")\n",
    "Alice_d = ClassicalRegister(1, \"Alice d\")\n",
    "\n",
    "test = QuantumCircuit(rbg, ebit0, ebit1, Alice_d, Alice_c)\n",
    "\n",
    "# Initialize the ebit\n",
    "test.h(ebit0)\n",
    "test.cx(ebit0, ebit1)\n",
    "test.barrier()\n",
    "\n",
    "# Use the 'randomizer' qubit twice to generate Alice's bits c and d.\n",
    "test.h(rbg)\n",
    "test.measure(rbg, Alice_c)\n",
    "test.h(rbg)\n",
    "test.measure(rbg, Alice_d)\n",
    "test.barrier()\n",
    "\n",
    "# Now the protocol runs, starting with Alice's actions, which depend\n",
    "# on her bits.\n",
    "with test.if_test((Alice_d, 1), label=\"Z\"):\n",
    "    test.z(ebit0)\n",
    "with test.if_test((Alice_c, 1), label=\"X\"):\n",
    "    test.x(ebit0)\n",
    "test.barrier()\n",
    "\n",
    "# Bob's actions\n",
    "test.cx(ebit0, ebit1)\n",
    "test.h(ebit0)\n",
    "test.barrier()\n",
    "\n",
    "Bob_c = ClassicalRegister(1, \"Bob c\")\n",
    "Bob_d = ClassicalRegister(1, \"Bob d\")\n",
    "test.add_register(Bob_d)\n",
    "test.add_register(Bob_c)\n",
    "test.measure(ebit0, Bob_d)\n",
    "test.measure(ebit1, Bob_c)\n",
    "\n",
    "display(test.draw())"
   ]
  },
  {
   "cell_type": "code",
   "execution_count": 217,
   "metadata": {},
   "outputs": [
    {
     "data": {
      "image/png": "[encoded data removed]",
      "text/plain": [
       "<Figure size 640x480 with 1 Axes>"
      ]
     },
     "metadata": {},
     "output_type": "display_data"
    }
   ],
   "source": [
    "result = AerSimulator().run(test).result()\n",
    "statistics = result.get_counts()\n",
    "display(plot_histogram(statistics))"
   ]
  },
  {
   "cell_type": "code",
   "execution_count": 218,
   "metadata": {},
   "outputs": [],
   "source": [
    "def chsh_game(strategy):\n",
    "    \"\"\"Plays the CHSH game\n",
    "    Args:\n",
    "        strategy (callable): A function that takes two bits (as `int`s) and\n",
    "            returns two bits (also as `int`s). The strategy must follow the\n",
    "            rules of the CHSH game.\n",
    "    Returns:\n",
    "        int: 1 for a win, 0 for a loss.\n",
    "    \"\"\"\n",
    "    # Referee chooses x and y randomly\n",
    "    x, y = np.random.randint(0, 2), np.random.randint(0, 2)\n",
    "\n",
    "    # Use strategy to choose a and b\n",
    "    a, b = strategy(x, y)\n",
    "\n",
    "    # Referee decides if Alice and Bob win or lose\n",
    "    if (a != b) == (x & y):\n",
    "        return 1  # Win\n",
    "    return 0  # Lose\n",
    "\n",
    "def chsh_circuit(x, y):\n",
    "    \"\"\"Creates a `QuantumCircuit` that implements the best CHSH strategy.\n",
    "    Args:\n",
    "        x (int): Alice's bit (must be 0 or 1)\n",
    "        y (int): Bob's bit (must be 0 or 1)\n",
    "    Returns:\n",
    "        QuantumCircuit: Circuit that, when run, returns Alice and Bob's\n",
    "            answer bits.\n",
    "    \"\"\"\n",
    "    qc = QuantumCircuit(2, 2)\n",
    "    qc.h(0)\n",
    "    qc.cx(0, 1)\n",
    "    qc.barrier()\n",
    "\n",
    "    # Alice\n",
    "    if x == 0:\n",
    "        qc.ry(0, 0)\n",
    "    else:\n",
    "        qc.ry(-np.pi / 2, 0)\n",
    "    qc.measure(0, 0)\n",
    "\n",
    "    # Bob\n",
    "    if y == 0:\n",
    "        qc.ry(-np.pi / 4, 1)\n",
    "    else:\n",
    "        qc.ry(np.pi / 4, 1)\n",
    "    qc.measure(1, 1)\n",
    "\n",
    "    return qc"
   ]
  },
  {
   "cell_type": "code",
   "execution_count": 219,
   "metadata": {},
   "outputs": [
    {
     "name": "stdout",
     "output_type": "stream",
     "text": [
      "(x,y) = (0,0)\n"
     ]
    },
    {
     "data": {
      "text/html": [
       "<pre style=\"word-wrap: normal;white-space: pre;background: #fff0;line-height: 1.1;font-family: &quot;Courier New&quot;,Courier,monospace\">     ┌───┐      ░  ┌───────┐  ┌─┐   \n",
       "q_0: ┤ H ├──■───░──┤ Ry(0) ├──┤M├───\n",
       "     └───┘┌─┴─┐ ░ ┌┴───────┴─┐└╥┘┌─┐\n",
       "q_1: ─────┤ X ├─░─┤ Ry(-π/4) ├─╫─┤M├\n",
       "          └───┘ ░ └──────────┘ ║ └╥┘\n",
       "c: 2/══════════════════════════╩══╩═\n",
       "                               0  1 </pre>"
      ],
      "text/plain": [
       "     ┌───┐      ░  ┌───────┐  ┌─┐   \n",
       "q_0: ┤ H ├──■───░──┤ Ry(0) ├──┤M├───\n",
       "     └───┘┌─┴─┐ ░ ┌┴───────┴─┐└╥┘┌─┐\n",
       "q_1: ─────┤ X ├─░─┤ Ry(-π/4) ├─╫─┤M├\n",
       "          └───┘ ░ └──────────┘ ║ └╥┘\n",
       "c: 2/══════════════════════════╩══╩═\n",
       "                               0  1 "
      ]
     },
     "metadata": {},
     "output_type": "display_data"
    },
    {
     "name": "stdout",
     "output_type": "stream",
     "text": [
      "(x,y) = (0,1)\n"
     ]
    },
    {
     "data": {
      "text/html": [
       "<pre style=\"word-wrap: normal;white-space: pre;background: #fff0;line-height: 1.1;font-family: &quot;Courier New&quot;,Courier,monospace\">     ┌───┐      ░  ┌───────┐ ┌─┐   \n",
       "q_0: ┤ H ├──■───░──┤ Ry(0) ├─┤M├───\n",
       "     └───┘┌─┴─┐ ░ ┌┴───────┴┐└╥┘┌─┐\n",
       "q_1: ─────┤ X ├─░─┤ Ry(π/4) ├─╫─┤M├\n",
       "          └───┘ ░ └─────────┘ ║ └╥┘\n",
       "c: 2/═════════════════════════╩══╩═\n",
       "                              0  1 </pre>"
      ],
      "text/plain": [
       "     ┌───┐      ░  ┌───────┐ ┌─┐   \n",
       "q_0: ┤ H ├──■───░──┤ Ry(0) ├─┤M├───\n",
       "     └───┘┌─┴─┐ ░ ┌┴───────┴┐└╥┘┌─┐\n",
       "q_1: ─────┤ X ├─░─┤ Ry(π/4) ├─╫─┤M├\n",
       "          └───┘ ░ └─────────┘ ║ └╥┘\n",
       "c: 2/═════════════════════════╩══╩═\n",
       "                              0  1 "
      ]
     },
     "metadata": {},
     "output_type": "display_data"
    },
    {
     "name": "stdout",
     "output_type": "stream",
     "text": [
      "(x,y) = (1,0)\n"
     ]
    },
    {
     "data": {
      "text/html": [
       "<pre style=\"word-wrap: normal;white-space: pre;background: #fff0;line-height: 1.1;font-family: &quot;Courier New&quot;,Courier,monospace\">     ┌───┐      ░ ┌──────────┐┌─┐   \n",
       "q_0: ┤ H ├──■───░─┤ Ry(-π/2) ├┤M├───\n",
       "     └───┘┌─┴─┐ ░ ├──────────┤└╥┘┌─┐\n",
       "q_1: ─────┤ X ├─░─┤ Ry(-π/4) ├─╫─┤M├\n",
       "          └───┘ ░ └──────────┘ ║ └╥┘\n",
       "c: 2/══════════════════════════╩══╩═\n",
       "                               0  1 </pre>"
      ],
      "text/plain": [
       "     ┌───┐      ░ ┌──────────┐┌─┐   \n",
       "q_0: ┤ H ├──■───░─┤ Ry(-π/2) ├┤M├───\n",
       "     └───┘┌─┴─┐ ░ ├──────────┤└╥┘┌─┐\n",
       "q_1: ─────┤ X ├─░─┤ Ry(-π/4) ├─╫─┤M├\n",
       "          └───┘ ░ └──────────┘ ║ └╥┘\n",
       "c: 2/══════════════════════════╩══╩═\n",
       "                               0  1 "
      ]
     },
     "metadata": {},
     "output_type": "display_data"
    },
    {
     "name": "stdout",
     "output_type": "stream",
     "text": [
      "(x,y) = (1,1)\n"
     ]
    },
    {
     "data": {
      "text/html": [
       "<pre style=\"word-wrap: normal;white-space: pre;background: #fff0;line-height: 1.1;font-family: &quot;Courier New&quot;,Courier,monospace\">     ┌───┐      ░ ┌──────────┐┌─┐   \n",
       "q_0: ┤ H ├──■───░─┤ Ry(-π/2) ├┤M├───\n",
       "     └───┘┌─┴─┐ ░ ├─────────┬┘└╥┘┌─┐\n",
       "q_1: ─────┤ X ├─░─┤ Ry(π/4) ├──╫─┤M├\n",
       "          └───┘ ░ └─────────┘  ║ └╥┘\n",
       "c: 2/══════════════════════════╩══╩═\n",
       "                               0  1 </pre>"
      ],
      "text/plain": [
       "     ┌───┐      ░ ┌──────────┐┌─┐   \n",
       "q_0: ┤ H ├──■───░─┤ Ry(-π/2) ├┤M├───\n",
       "     └───┘┌─┴─┐ ░ ├─────────┬┘└╥┘┌─┐\n",
       "q_1: ─────┤ X ├─░─┤ Ry(π/4) ├──╫─┤M├\n",
       "          └───┘ ░ └─────────┘  ║ └╥┘\n",
       "c: 2/══════════════════════════╩══╩═\n",
       "                               0  1 "
      ]
     },
     "metadata": {},
     "output_type": "display_data"
    }
   ],
   "source": [
    "# Draw the four possible circuits\n",
    "\n",
    "print(\"(x,y) = (0,0)\")\n",
    "display(chsh_circuit(0, 0).draw())\n",
    "\n",
    "print(\"(x,y) = (0,1)\")\n",
    "display(chsh_circuit(0, 1).draw())\n",
    "\n",
    "print(\"(x,y) = (1,0)\")\n",
    "display(chsh_circuit(1, 0).draw())\n",
    "\n",
    "print(\"(x,y) = (1,1)\")\n",
    "display(chsh_circuit(1, 1).draw())"
   ]
  },
  {
   "cell_type": "code",
   "execution_count": 220,
   "metadata": {},
   "outputs": [
    {
     "name": "stdout",
     "output_type": "stream",
     "text": [
      "Fraction of games won: 0.86\n"
     ]
    }
   ],
   "source": [
    "sampler = Sampler()\n",
    "\n",
    "def quantum_strategy(x, y):\n",
    "    \"\"\"Carry out the best strategy for the CHSH game.\n",
    "    Args:\n",
    "        x (int): Alice's bit (must be 0 or 1)\n",
    "        y (int): Bob's bit (must be 0 or 1)\n",
    "    Returns:\n",
    "        (int, int): Alice and Bob's answer bits (respectively)\n",
    "    \"\"\"\n",
    "    # `shots=1` runs the circuit once\n",
    "    result = sampler.run(chsh_circuit(x, y), shots=1).result()\n",
    "    statistics = result.quasi_dists[0].binary_probabilities()\n",
    "    bits = list(statistics.keys())[0]\n",
    "    a, b = bits[0], bits[1]\n",
    "    return a, b\n",
    "\n",
    "NUM_GAMES = 1000\n",
    "TOTAL_SCORE = 0\n",
    "\n",
    "for _ in range(NUM_GAMES):\n",
    "    TOTAL_SCORE += chsh_game(quantum_strategy)\n",
    "\n",
    "print(\"Fraction of games won:\", TOTAL_SCORE / NUM_GAMES)"
   ]
  },
  {
   "cell_type": "code",
   "execution_count": 221,
   "metadata": {},
   "outputs": [
    {
     "name": "stdout",
     "output_type": "stream",
     "text": [
      "Fraction of games won: 0.718\n"
     ]
    }
   ],
   "source": [
    "def classical_strategy(x, y):\n",
    "    \"\"\"An optimal classical strategy for the CHSH game\n",
    "    Args:\n",
    "        x (int): Alice's bit (must be 0 or 1)\n",
    "        y (int): Bob's bit (must be 0 or 1)\n",
    "    Returns:\n",
    "        (int, int): Alice and Bob's answer bits (respectively)\n",
    "    \"\"\"\n",
    "    # Alice's answer\n",
    "    if x == 0:\n",
    "        a = 0\n",
    "    elif x == 1:\n",
    "        a = 1\n",
    "\n",
    "    # Bob's answer\n",
    "    if y == 0:\n",
    "        b = 1\n",
    "    elif y == 1:\n",
    "        b = 0\n",
    "\n",
    "    return a, b\n",
    "\n",
    "NUM_GAMES = 1000\n",
    "TOTAL_SCORE = 0\n",
    "\n",
    "for _ in range(NUM_GAMES):\n",
    "    TOTAL_SCORE += chsh_game(classical_strategy)\n",
    "\n",
    "print(\"Fraction of games won:\", TOTAL_SCORE / NUM_GAMES)"
   ]
  }
 ],
 "metadata": {
  "kernelspec": {
   "display_name": "Python 3.8.5 ('base')",
   "language": "python",
   "name": "python3"
  },
  "language_info": {
   "codemirror_mode": {
    "name": "ipython",
    "version": 3
   },
   "file_extension": ".py",
   "mimetype": "text/x-python",
   "name": "python",
   "nbconvert_exporter": "python",
   "pygments_lexer": "ipython3",
   "version": "3.10.13"
  },
  "orig_nbformat": 4,
  "vscode": {
   "interpreter": {
    "hash": "31e6c5c79e5805a0c115eefd20e01db841235392825680cc7179dc8df6146eb6"
   }
  }
 },
 "nbformat": 4,
 "nbformat_minor": 2
}
